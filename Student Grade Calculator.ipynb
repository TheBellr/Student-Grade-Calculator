{
 "cells": [
  {
   "cell_type": "markdown",
   "id": "637c8ef8-08b3-4012-bb27-c13d2746bb29",
   "metadata": {},
   "source": [
    "# Student Grade Calculator\n",
    "\n",
    "Build a program that takes input for the scores of different subjects for a student. Use a dictionary to store the subject names as keys and the corresponding scores as values. Calculate the average grade and display it along with the corresponding letter grade based on a predefined grading scale."
   ]
  },
  {
   "cell_type": "code",
   "execution_count": null,
   "id": "e6448322-10a4-4e91-9666-c10db319fa45",
   "metadata": {},
   "outputs": [],
   "source": [
    "scores = {}\n",
    "subjects = {\"MATH\": [], \"ENGLISH\": [], \"BIOLOGY\": [], \"ECONOMICS\": [], \"ART\": []}\n",
    "\n",
    "for subject, score_list in subjects.items():\n",
    "    user_subject = input(\"Enter the subject: \").upper()\n",
    "\n",
    "    if user_subject in subjects:\n",
    "        score = float(input(\"Enter the score for \" + str(user_subject) + \": \"))\n",
    "        scores[user_subject] = score\n",
    "\n",
    "        if 85 <= score <= 100:\n",
    "            print('Grade: A')\n",
    "        elif 75 <= score < 85:\n",
    "            print('Grade: B')\n",
    "        elif 60 <= score < 75:\n",
    "            print('Grade: C')\n",
    "        elif 50 <= score < 60:\n",
    "            print('Grade: D')\n",
    "        else:\n",
    "            print('Grade: F')\n",
    "    else:\n",
    "        print(\"Records not available for: \" + user_subject)\n",
    "        print(\"Available Subjects:\")\n",
    "        for key in subjects:\n",
    "            print(key)\n",
    "\n",
    "total_score = sum(scores.values())\n",
    "average_score = total_score / len(subjects)\n",
    "\n",
    "print()\n",
    "print(\"Average Score: \", average_score)\n",
    "\n",
    "if 85 <= average_score <= 100:\n",
    "    print('Average Grade: A')\n",
    "elif 75 <= average_score < 85:\n",
    "    print('Average Grade: B')\n",
    "elif 60 <= average_score < 75:\n",
    "    print('Average Grade: C')\n",
    "elif 50 <= average_score < 60:\n",
    "    print('Average Grade: D')\n",
    "else:\n",
    "    print('Average Grade: F')\n"
   ]
  }
 ],
 "metadata": {
  "kernelspec": {
   "display_name": "Python 3 (ipykernel)",
   "language": "python",
   "name": "python3"
  },
  "language_info": {
   "codemirror_mode": {
    "name": "ipython",
    "version": 3
   },
   "file_extension": ".py",
   "mimetype": "text/x-python",
   "name": "python",
   "nbconvert_exporter": "python",
   "pygments_lexer": "ipython3",
   "version": "3.11.5"
  }
 },
 "nbformat": 4,
 "nbformat_minor": 5
}
